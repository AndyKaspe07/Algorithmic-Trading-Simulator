{
 "cells": [
  {
   "cell_type": "code",
   "execution_count": 1,
   "id": "3ff3daa3",
   "metadata": {},
   "outputs": [],
   "source": [
    "import yfinance as yf"
   ]
  },
  {
   "cell_type": "code",
   "execution_count": 2,
   "id": "835cb61c",
   "metadata": {},
   "outputs": [],
   "source": [
    "import datetime as dt"
   ]
  },
  {
   "cell_type": "code",
   "execution_count": 3,
   "id": "9e92bbe3",
   "metadata": {},
   "outputs": [],
   "source": [
    "end = dt.date.today()"
   ]
  },
  {
   "cell_type": "code",
   "execution_count": 4,
   "id": "3013f84b",
   "metadata": {},
   "outputs": [],
   "source": [
    "start = dt.date.today() - dt.timedelta(days=3*365)"
   ]
  },
  {
   "cell_type": "code",
   "execution_count": 51,
   "id": "8d7485a5",
   "metadata": {},
   "outputs": [],
   "source": [
    "symbol = 'GOOGL'"
   ]
  },
  {
   "cell_type": "code",
   "execution_count": 7,
   "id": "886f6324",
   "metadata": {},
   "outputs": [],
   "source": [
    "google = yf.Ticker('GOOGL')"
   ]
  },
  {
   "cell_type": "code",
   "execution_count": 8,
   "id": "e99f0b25",
   "metadata": {},
   "outputs": [
    {
     "data": {
      "text/plain": [
       "{'address1': '1600 Amphitheatre Parkway',\n",
       " 'city': 'Mountain View',\n",
       " 'state': 'CA',\n",
       " 'zip': '94043',\n",
       " 'country': 'United States',\n",
       " 'phone': '650 253 0000',\n",
       " 'website': 'https://www.abc.xyz',\n",
       " 'industry': 'Internet Content & Information',\n",
       " 'industryDisp': 'Internet Content & Information',\n",
       " 'sector': 'Communication Services',\n",
       " 'sectorDisp': 'Communication Services',\n",
       " 'longBusinessSummary': 'Alphabet Inc. offers various products and platforms in the United States, Europe, the Middle East, Africa, the Asia-Pacific, Canada, and Latin America. It operates through Google Services, Google Cloud, and Other Bets segments. The Google Services segment provides products and services, including ads, Android, Chrome, hardware, Gmail, Google Drive, Google Maps, Google Photos, Google Play, Search, and YouTube. It is also involved in the sale of apps and in-app purchases and digital content in the Google Play store; and Fitbit wearable devices, Google Nest home products, Pixel phones, and other devices, as well as in the provision of YouTube non-advertising services. The Google Cloud segment offers infrastructure, cybersecurity, data, analytics, AI, and machine learning, and other services; Google Workspace that include cloud-based collaboration tools for enterprises, such as Gmail, Docs, Drive, Calendar, and Meet; and other services for enterprise customers. The Other Bets segment sells health technology and internet services. The company was founded in 1998 and is headquartered in Mountain View, California.',\n",
       " 'fullTimeEmployees': 181798,\n",
       " 'companyOfficers': [{'maxAge': 1,\n",
       "   'name': 'Mr. Sundar  Pichai',\n",
       "   'age': 49,\n",
       "   'title': 'CEO & Director',\n",
       "   'yearBorn': 1973,\n",
       "   'fiscalYear': 2022,\n",
       "   'totalPay': 7947461,\n",
       "   'exercisedValue': 39618220,\n",
       "   'unexercisedValue': 0},\n",
       "  {'maxAge': 1,\n",
       "   'name': 'Ms. Ruth M. Porat',\n",
       "   'age': 64,\n",
       "   'title': 'Pres, Chief Investment Officer, Sr. VP & CFO',\n",
       "   'yearBorn': 1958,\n",
       "   'fiscalYear': 2022,\n",
       "   'totalPay': 1790046,\n",
       "   'exercisedValue': 0,\n",
       "   'unexercisedValue': 0},\n",
       "  {'maxAge': 1,\n",
       "   'name': 'Mr. Lawrence Edward Page',\n",
       "   'age': 49,\n",
       "   'title': 'Co-Founder & Director',\n",
       "   'yearBorn': 1973,\n",
       "   'fiscalYear': 2022,\n",
       "   'totalPay': 1,\n",
       "   'exercisedValue': 0,\n",
       "   'unexercisedValue': 0},\n",
       "  {'maxAge': 1,\n",
       "   'name': 'Mr. Sergey  Brin',\n",
       "   'age': 48,\n",
       "   'title': 'Co-Founder & Director',\n",
       "   'yearBorn': 1974,\n",
       "   'fiscalYear': 2022,\n",
       "   'totalPay': 1,\n",
       "   'exercisedValue': 0,\n",
       "   'unexercisedValue': 0},\n",
       "  {'maxAge': 1,\n",
       "   'name': 'Mr. J. Kent Walker',\n",
       "   'age': 61,\n",
       "   'title': 'Pres of Global Affairs, Chief Legal Officer & Company Sec.',\n",
       "   'yearBorn': 1961,\n",
       "   'fiscalYear': 2022,\n",
       "   'totalPay': 1787541,\n",
       "   'exercisedValue': 0,\n",
       "   'unexercisedValue': 0},\n",
       "  {'maxAge': 1,\n",
       "   'name': 'Dr. Prabhakar  Raghavan',\n",
       "   'age': 61,\n",
       "   'title': 'Sr. VP of Knowledge and Information - Google',\n",
       "   'yearBorn': 1961,\n",
       "   'fiscalYear': 2022,\n",
       "   'totalPay': 1785329,\n",
       "   'exercisedValue': 0,\n",
       "   'unexercisedValue': 0},\n",
       "  {'maxAge': 1,\n",
       "   'name': 'Mr. Philipp  Schindler',\n",
       "   'age': 51,\n",
       "   'title': 'Sr. VP & Chief Bus. Officer of Google',\n",
       "   'yearBorn': 1971,\n",
       "   'fiscalYear': 2022,\n",
       "   'totalPay': 1785814,\n",
       "   'exercisedValue': 0,\n",
       "   'unexercisedValue': 0},\n",
       "  {'maxAge': 1,\n",
       "   'name': \"Ms. Amie Thuener O'Toole\",\n",
       "   'age': 47,\n",
       "   'title': 'Chief Accounting Officer & VP',\n",
       "   'yearBorn': 1975,\n",
       "   'exercisedValue': 0,\n",
       "   'unexercisedValue': 0},\n",
       "  {'maxAge': 1,\n",
       "   'name': 'Ms. Ellen  West',\n",
       "   'title': 'VP of Investor Relations',\n",
       "   'exercisedValue': 0,\n",
       "   'unexercisedValue': 0},\n",
       "  {'maxAge': 1,\n",
       "   'name': 'Ms. Fiona Clare Cicconi',\n",
       "   'age': 56,\n",
       "   'title': 'Chief People Officer',\n",
       "   'yearBorn': 1966,\n",
       "   'exercisedValue': 0,\n",
       "   'unexercisedValue': 0}],\n",
       " 'auditRisk': 8,\n",
       " 'boardRisk': 6,\n",
       " 'compensationRisk': 10,\n",
       " 'shareHolderRightsRisk': 10,\n",
       " 'overallRisk': 10,\n",
       " 'governanceEpochDate': 1693526400,\n",
       " 'compensationAsOfEpochDate': 1672444800,\n",
       " 'maxAge': 86400,\n",
       " 'priceHint': 2,\n",
       " 'previousClose': 128.565,\n",
       " 'open': 128.57,\n",
       " 'dayLow': 128.61,\n",
       " 'dayHigh': 130.895,\n",
       " 'regularMarketPreviousClose': 128.565,\n",
       " 'regularMarketOpen': 128.57,\n",
       " 'regularMarketDayLow': 128.61,\n",
       " 'regularMarketDayHigh': 130.895,\n",
       " 'payoutRatio': 0.0,\n",
       " 'beta': 1.05982,\n",
       " 'trailingPE': 28.13362,\n",
       " 'forwardPE': 19.512705,\n",
       " 'volume': 21391195,\n",
       " 'regularMarketVolume': 21391195,\n",
       " 'averageVolume': 28244277,\n",
       " 'averageVolume10days': 26221520,\n",
       " 'averageDailyVolume10Day': 26221520,\n",
       " 'bid': 130.5,\n",
       " 'ask': 130.85,\n",
       " 'bidSize': 800,\n",
       " 'askSize': 1400,\n",
       " 'marketCap': 1651187253248,\n",
       " 'fiftyTwoWeekLow': 83.34,\n",
       " 'fiftyTwoWeekHigh': 139.16,\n",
       " 'priceToSalesTrailing12Months': 5.7029724,\n",
       " 'fiftyDayAverage': 131.0898,\n",
       " 'twoHundredDayAverage': 111.6159,\n",
       " 'trailingAnnualDividendRate': 0.0,\n",
       " 'trailingAnnualDividendYield': 0.0,\n",
       " 'currency': 'USD',\n",
       " 'enterpriseValue': 1532176105472,\n",
       " 'profitMargins': 0.21052,\n",
       " 'floatShares': 10881188730,\n",
       " 'sharesOutstanding': 5933000192,\n",
       " 'sharesShort': 46080635,\n",
       " 'sharesShortPriorMonth': 46172293,\n",
       " 'sharesShortPreviousMonthDate': 1692057600,\n",
       " 'dateShortInterest': 1694736000,\n",
       " 'sharesPercentSharesOut': 0.0037,\n",
       " 'heldPercentInsiders': 0.0027700001,\n",
       " 'heldPercentInstitutions': 0.78931,\n",
       " 'shortRatio': 1.81,\n",
       " 'shortPercentOfFloat': 0.0078,\n",
       " 'impliedSharesOutstanding': 12648899584,\n",
       " 'bookValue': 21.153,\n",
       " 'priceToBook': 6.1712284,\n",
       " 'lastFiscalYearEnd': 1672444800,\n",
       " 'nextFiscalYearEnd': 1703980800,\n",
       " 'mostRecentQuarter': 1688083200,\n",
       " 'earningsQuarterlyGrowth': 0.148,\n",
       " 'netIncomeToCommon': 60953001984,\n",
       " 'trailingEps': 4.64,\n",
       " 'forwardEps': 6.69,\n",
       " 'pegRatio': 1.24,\n",
       " 'lastSplitFactor': '20:1',\n",
       " 'lastSplitDate': 1658102400,\n",
       " 'enterpriseToRevenue': 5.292,\n",
       " 'enterpriseToEbitda': 16.768,\n",
       " '52WeekChange': 0.3399713,\n",
       " 'SandP52WeekChange': 0.1741643,\n",
       " 'exchange': 'NMS',\n",
       " 'quoteType': 'EQUITY',\n",
       " 'symbol': 'GOOGL',\n",
       " 'underlyingSymbol': 'GOOGL',\n",
       " 'shortName': 'Alphabet Inc.',\n",
       " 'longName': 'Alphabet Inc.',\n",
       " 'firstTradeDateEpochUtc': 1092922200,\n",
       " 'timeZoneFullName': 'America/New_York',\n",
       " 'timeZoneShortName': 'EDT',\n",
       " 'uuid': 'e15ce71f-f533-3912-9f11-a46c09e2412b',\n",
       " 'messageBoardId': 'finmb_29096',\n",
       " 'gmtOffSetMilliseconds': -14400000,\n",
       " 'currentPrice': 130.54,\n",
       " 'targetHighPrice': 200.0,\n",
       " 'targetLowPrice': 121.0,\n",
       " 'targetMeanPrice': 149.16,\n",
       " 'targetMedianPrice': 150.0,\n",
       " 'recommendationMean': 1.9,\n",
       " 'recommendationKey': 'buy',\n",
       " 'numberOfAnalystOpinions': 42,\n",
       " 'totalCash': 118331998208,\n",
       " 'totalCashPerShare': 9.385,\n",
       " 'ebitda': 91374002176,\n",
       " 'totalDebt': 29432000512,\n",
       " 'quickRatio': 2.022,\n",
       " 'currentRatio': 2.172,\n",
       " 'totalRevenue': 289531002880,\n",
       " 'debtToEquity': 11.017,\n",
       " 'revenuePerShare': 22.547,\n",
       " 'returnOnAssets': 0.1296,\n",
       " 'returnOnEquity': 0.23329,\n",
       " 'grossProfits': 156633000000,\n",
       " 'freeCashflow': 68255125504,\n",
       " 'operatingCashflow': 99142000640,\n",
       " 'earningsGrowth': 0.191,\n",
       " 'revenueGrowth': 0.071,\n",
       " 'grossMargins': 0.55594003,\n",
       " 'ebitdaMargins': 0.31559,\n",
       " 'operatingMargins': 0.26437,\n",
       " 'financialCurrency': 'USD',\n",
       " 'trailingPegRatio': 1.239}"
      ]
     },
     "execution_count": 8,
     "metadata": {},
     "output_type": "execute_result"
    }
   ],
   "source": [
    "google.info"
   ]
  },
  {
   "cell_type": "code",
   "execution_count": 9,
   "id": "a7e00bfe",
   "metadata": {},
   "outputs": [
    {
     "name": "stdout",
     "output_type": "stream",
     "text": [
      "[*********************100%%**********************]  1 of 1 completed\n"
     ]
    }
   ],
   "source": [
    "df = yf.download('GOOGL', period=\"36mo\")"
   ]
  },
  {
   "cell_type": "code",
   "execution_count": 10,
   "id": "c8735610",
   "metadata": {},
   "outputs": [
    {
     "data": {
      "text/html": [
       "<div>\n",
       "<style scoped>\n",
       "    .dataframe tbody tr th:only-of-type {\n",
       "        vertical-align: middle;\n",
       "    }\n",
       "\n",
       "    .dataframe tbody tr th {\n",
       "        vertical-align: top;\n",
       "    }\n",
       "\n",
       "    .dataframe thead th {\n",
       "        text-align: right;\n",
       "    }\n",
       "</style>\n",
       "<table border=\"1\" class=\"dataframe\">\n",
       "  <thead>\n",
       "    <tr style=\"text-align: right;\">\n",
       "      <th></th>\n",
       "      <th>Open</th>\n",
       "      <th>High</th>\n",
       "      <th>Low</th>\n",
       "      <th>Close</th>\n",
       "      <th>Adj Close</th>\n",
       "      <th>Volume</th>\n",
       "    </tr>\n",
       "    <tr>\n",
       "      <th>Date</th>\n",
       "      <th></th>\n",
       "      <th></th>\n",
       "      <th></th>\n",
       "      <th></th>\n",
       "      <th></th>\n",
       "      <th></th>\n",
       "    </tr>\n",
       "  </thead>\n",
       "  <tbody>\n",
       "    <tr>\n",
       "      <th>2020-09-28</th>\n",
       "      <td>73.599503</td>\n",
       "      <td>73.649498</td>\n",
       "      <td>72.314003</td>\n",
       "      <td>72.932999</td>\n",
       "      <td>72.932999</td>\n",
       "      <td>30784000</td>\n",
       "    </tr>\n",
       "    <tr>\n",
       "      <th>2020-09-29</th>\n",
       "      <td>73.195503</td>\n",
       "      <td>73.599998</td>\n",
       "      <td>72.699997</td>\n",
       "      <td>73.301003</td>\n",
       "      <td>73.301003</td>\n",
       "      <td>31816000</td>\n",
       "    </tr>\n",
       "    <tr>\n",
       "      <th>2020-09-30</th>\n",
       "      <td>73.046997</td>\n",
       "      <td>74.309998</td>\n",
       "      <td>72.788002</td>\n",
       "      <td>73.279999</td>\n",
       "      <td>73.279999</td>\n",
       "      <td>40924000</td>\n",
       "    </tr>\n",
       "    <tr>\n",
       "      <th>2020-10-01</th>\n",
       "      <td>74.182999</td>\n",
       "      <td>74.753502</td>\n",
       "      <td>73.839996</td>\n",
       "      <td>74.394997</td>\n",
       "      <td>74.394997</td>\n",
       "      <td>32884000</td>\n",
       "    </tr>\n",
       "    <tr>\n",
       "      <th>2020-10-02</th>\n",
       "      <td>72.981499</td>\n",
       "      <td>73.951500</td>\n",
       "      <td>72.367500</td>\n",
       "      <td>72.779999</td>\n",
       "      <td>72.779999</td>\n",
       "      <td>31222000</td>\n",
       "    </tr>\n",
       "  </tbody>\n",
       "</table>\n",
       "</div>"
      ],
      "text/plain": [
       "                 Open       High        Low      Close  Adj Close    Volume\n",
       "Date                                                                       \n",
       "2020-09-28  73.599503  73.649498  72.314003  72.932999  72.932999  30784000\n",
       "2020-09-29  73.195503  73.599998  72.699997  73.301003  73.301003  31816000\n",
       "2020-09-30  73.046997  74.309998  72.788002  73.279999  73.279999  40924000\n",
       "2020-10-01  74.182999  74.753502  73.839996  74.394997  74.394997  32884000\n",
       "2020-10-02  72.981499  73.951500  72.367500  72.779999  72.779999  31222000"
      ]
     },
     "execution_count": 10,
     "metadata": {},
     "output_type": "execute_result"
    }
   ],
   "source": [
    "df.head()"
   ]
  },
  {
   "cell_type": "code",
   "execution_count": 12,
   "id": "33275cfb",
   "metadata": {},
   "outputs": [
    {
     "name": "stdout",
     "output_type": "stream",
     "text": [
      "Requirement already satisfied: matplotlib in /Users/andykaspe/anaconda3/lib/python3.11/site-packages (3.7.1)\n",
      "Requirement already satisfied: contourpy>=1.0.1 in /Users/andykaspe/anaconda3/lib/python3.11/site-packages (from matplotlib) (1.0.5)\n",
      "Requirement already satisfied: cycler>=0.10 in /Users/andykaspe/anaconda3/lib/python3.11/site-packages (from matplotlib) (0.11.0)\n",
      "Requirement already satisfied: fonttools>=4.22.0 in /Users/andykaspe/anaconda3/lib/python3.11/site-packages (from matplotlib) (4.25.0)\n",
      "Requirement already satisfied: kiwisolver>=1.0.1 in /Users/andykaspe/anaconda3/lib/python3.11/site-packages (from matplotlib) (1.4.4)\n",
      "Requirement already satisfied: numpy>=1.20 in /Users/andykaspe/anaconda3/lib/python3.11/site-packages (from matplotlib) (1.24.3)\n",
      "Requirement already satisfied: packaging>=20.0 in /Users/andykaspe/anaconda3/lib/python3.11/site-packages (from matplotlib) (23.0)\n",
      "Requirement already satisfied: pillow>=6.2.0 in /Users/andykaspe/anaconda3/lib/python3.11/site-packages (from matplotlib) (9.4.0)\n",
      "Requirement already satisfied: pyparsing>=2.3.1 in /Users/andykaspe/anaconda3/lib/python3.11/site-packages (from matplotlib) (3.0.9)\n",
      "Requirement already satisfied: python-dateutil>=2.7 in /Users/andykaspe/anaconda3/lib/python3.11/site-packages (from matplotlib) (2.8.2)\n",
      "Requirement already satisfied: six>=1.5 in /Users/andykaspe/anaconda3/lib/python3.11/site-packages (from python-dateutil>=2.7->matplotlib) (1.16.0)\n"
     ]
    }
   ],
   "source": [
    "!pip install matplotlib"
   ]
  },
  {
   "cell_type": "code",
   "execution_count": 22,
   "id": "6a980444",
   "metadata": {},
   "outputs": [],
   "source": [
    "import matplotlib.pyplot as plt"
   ]
  },
  {
   "cell_type": "code",
   "execution_count": 19,
   "id": "1c06dafa",
   "metadata": {},
   "outputs": [
    {
     "name": "stdout",
     "output_type": "stream",
     "text": [
      "<class 'pandas.core.frame.DataFrame'>\n",
      "DatetimeIndex: 755 entries, 2020-09-28 to 2023-09-27\n",
      "Data columns (total 6 columns):\n",
      " #   Column     Non-Null Count  Dtype  \n",
      "---  ------     --------------  -----  \n",
      " 0   Open       755 non-null    float64\n",
      " 1   High       755 non-null    float64\n",
      " 2   Low        755 non-null    float64\n",
      " 3   Close      755 non-null    float64\n",
      " 4   Adj Close  755 non-null    float64\n",
      " 5   Volume     755 non-null    int64  \n",
      "dtypes: float64(5), int64(1)\n",
      "memory usage: 41.3 KB\n"
     ]
    }
   ],
   "source": [
    "df.info()"
   ]
  },
  {
   "cell_type": "code",
   "execution_count": 25,
   "id": "cbbceddb",
   "metadata": {},
   "outputs": [
    {
     "data": {
      "text/plain": [
       "Date\n",
       "2020-09-28     72.932999\n",
       "2020-09-29     73.301003\n",
       "2020-09-30     73.279999\n",
       "2020-10-01     74.394997\n",
       "2020-10-02     72.779999\n",
       "                 ...    \n",
       "2023-09-21    130.440002\n",
       "2023-09-22    130.250000\n",
       "2023-09-25    131.110001\n",
       "2023-09-26    128.570007\n",
       "2023-09-27    130.539993\n",
       "Name: Adj Close, Length: 755, dtype: float64"
      ]
     },
     "execution_count": 25,
     "metadata": {},
     "output_type": "execute_result"
    }
   ],
   "source": [
    "df['Adj Close']"
   ]
  },
  {
   "cell_type": "code",
   "execution_count": 26,
   "id": "74c666cf",
   "metadata": {},
   "outputs": [],
   "source": [
    "close_prices = [i for i in df['Adj Close']]"
   ]
  },
  {
   "cell_type": "code",
   "execution_count": 61,
   "id": "377297ba",
   "metadata": {},
   "outputs": [],
   "source": [
    "import seaborn as sns; sns.set()"
   ]
  },
  {
   "cell_type": "code",
   "execution_count": 81,
   "id": "0ba117f0",
   "metadata": {},
   "outputs": [
    {
     "data": {
      "text/plain": [
       "<Figure size 4000x800 with 0 Axes>"
      ]
     },
     "execution_count": 81,
     "metadata": {},
     "output_type": "execute_result"
    },
    {
     "data": {
      "text/plain": [
       "<Figure size 4000x800 with 0 Axes>"
      ]
     },
     "metadata": {},
     "output_type": "display_data"
    }
   ],
   "source": [
    "plt.figure(figsize=(40,8))"
   ]
  },
  {
   "cell_type": "code",
   "execution_count": 82,
   "id": "236cfd57",
   "metadata": {},
   "outputs": [],
   "source": [
    "df_dates=df.index.to_frame().reset_index(drop=True)"
   ]
  },
  {
   "cell_type": "code",
   "execution_count": 83,
   "id": "c2c03741",
   "metadata": {},
   "outputs": [
    {
     "data": {
      "text/plain": [
       "Index(['Open', 'High', 'Low', 'Close', 'Adj Close', 'Volume', 'Dates', 'Date'], dtype='object')"
      ]
     },
     "execution_count": 83,
     "metadata": {},
     "output_type": "execute_result"
    }
   ],
   "source": [
    "df.columns"
   ]
  },
  {
   "cell_type": "code",
   "execution_count": 84,
   "id": "15f3ead8",
   "metadata": {},
   "outputs": [],
   "source": [
    "df['Date'] = df_dates.values"
   ]
  },
  {
   "cell_type": "code",
   "execution_count": 86,
   "id": "c3a19021",
   "metadata": {},
   "outputs": [],
   "source": [
    "MA_1, MA_2 = 30, 50 "
   ]
  },
  {
   "cell_type": "code",
   "execution_count": 87,
   "id": "2714823f",
   "metadata": {},
   "outputs": [],
   "source": [
    "df[f'MA_{MA_1}'] = df['Adj Close'].rolling(window=MA_1).mean()"
   ]
  },
  {
   "cell_type": "code",
   "execution_count": 90,
   "id": "d470d94c",
   "metadata": {},
   "outputs": [],
   "source": [
    "df[f'MA_{MA_2}'] = df['Adj Close'].rolling(window=MA_2).mean()"
   ]
  },
  {
   "cell_type": "code",
   "execution_count": 91,
   "id": "bf17f501",
   "metadata": {},
   "outputs": [],
   "source": [
    "df = df.iloc[MA_2:]"
   ]
  },
  {
   "cell_type": "code",
   "execution_count": 93,
   "id": "c5e70314",
   "metadata": {},
   "outputs": [
    {
     "data": {
      "text/html": [
       "<div>\n",
       "<style scoped>\n",
       "    .dataframe tbody tr th:only-of-type {\n",
       "        vertical-align: middle;\n",
       "    }\n",
       "\n",
       "    .dataframe tbody tr th {\n",
       "        vertical-align: top;\n",
       "    }\n",
       "\n",
       "    .dataframe thead th {\n",
       "        text-align: right;\n",
       "    }\n",
       "</style>\n",
       "<table border=\"1\" class=\"dataframe\">\n",
       "  <thead>\n",
       "    <tr style=\"text-align: right;\">\n",
       "      <th></th>\n",
       "      <th>Open</th>\n",
       "      <th>High</th>\n",
       "      <th>Low</th>\n",
       "      <th>Close</th>\n",
       "      <th>Adj Close</th>\n",
       "      <th>Volume</th>\n",
       "      <th>Dates</th>\n",
       "      <th>Date</th>\n",
       "      <th>MA_30</th>\n",
       "      <th>MA_50</th>\n",
       "    </tr>\n",
       "    <tr>\n",
       "      <th>Date</th>\n",
       "      <th></th>\n",
       "      <th></th>\n",
       "      <th></th>\n",
       "      <th></th>\n",
       "      <th></th>\n",
       "      <th></th>\n",
       "      <th></th>\n",
       "      <th></th>\n",
       "      <th></th>\n",
       "      <th></th>\n",
       "    </tr>\n",
       "  </thead>\n",
       "  <tbody>\n",
       "    <tr>\n",
       "      <th>2020-12-08</th>\n",
       "      <td>90.426003</td>\n",
       "      <td>90.798500</td>\n",
       "      <td>89.564003</td>\n",
       "      <td>90.566498</td>\n",
       "      <td>90.566498</td>\n",
       "      <td>19936000</td>\n",
       "      <td>2020-12-08</td>\n",
       "      <td>2020-12-08</td>\n",
       "      <td>86.741267</td>\n",
       "      <td>82.61597</td>\n",
       "    </tr>\n",
       "    <tr>\n",
       "      <th>2020-12-09</th>\n",
       "      <td>90.517998</td>\n",
       "      <td>91.418503</td>\n",
       "      <td>88.099998</td>\n",
       "      <td>88.892998</td>\n",
       "      <td>88.892998</td>\n",
       "      <td>31728000</td>\n",
       "      <td>2020-12-09</td>\n",
       "      <td>2020-12-09</td>\n",
       "      <td>87.039567</td>\n",
       "      <td>82.92781</td>\n",
       "    </tr>\n",
       "    <tr>\n",
       "      <th>2020-12-10</th>\n",
       "      <td>88.129997</td>\n",
       "      <td>88.749496</td>\n",
       "      <td>86.676498</td>\n",
       "      <td>88.382500</td>\n",
       "      <td>88.382500</td>\n",
       "      <td>28688000</td>\n",
       "      <td>2020-12-10</td>\n",
       "      <td>2020-12-10</td>\n",
       "      <td>87.467650</td>\n",
       "      <td>83.22986</td>\n",
       "    </tr>\n",
       "    <tr>\n",
       "      <th>2020-12-11</th>\n",
       "      <td>88.000000</td>\n",
       "      <td>88.865501</td>\n",
       "      <td>87.637001</td>\n",
       "      <td>88.739998</td>\n",
       "      <td>88.739998</td>\n",
       "      <td>18628000</td>\n",
       "      <td>2020-12-11</td>\n",
       "      <td>2020-12-11</td>\n",
       "      <td>87.830850</td>\n",
       "      <td>83.51676</td>\n",
       "    </tr>\n",
       "    <tr>\n",
       "      <th>2020-12-14</th>\n",
       "      <td>88.536003</td>\n",
       "      <td>89.489998</td>\n",
       "      <td>87.456497</td>\n",
       "      <td>87.612999</td>\n",
       "      <td>87.612999</td>\n",
       "      <td>33050000</td>\n",
       "      <td>2020-12-14</td>\n",
       "      <td>2020-12-14</td>\n",
       "      <td>88.057766</td>\n",
       "      <td>83.81342</td>\n",
       "    </tr>\n",
       "  </tbody>\n",
       "</table>\n",
       "</div>"
      ],
      "text/plain": [
       "                 Open       High        Low      Close  Adj Close    Volume  \\\n",
       "Date                                                                          \n",
       "2020-12-08  90.426003  90.798500  89.564003  90.566498  90.566498  19936000   \n",
       "2020-12-09  90.517998  91.418503  88.099998  88.892998  88.892998  31728000   \n",
       "2020-12-10  88.129997  88.749496  86.676498  88.382500  88.382500  28688000   \n",
       "2020-12-11  88.000000  88.865501  87.637001  88.739998  88.739998  18628000   \n",
       "2020-12-14  88.536003  89.489998  87.456497  87.612999  87.612999  33050000   \n",
       "\n",
       "                Dates       Date      MA_30     MA_50  \n",
       "Date                                                   \n",
       "2020-12-08 2020-12-08 2020-12-08  86.741267  82.61597  \n",
       "2020-12-09 2020-12-09 2020-12-09  87.039567  82.92781  \n",
       "2020-12-10 2020-12-10 2020-12-10  87.467650  83.22986  \n",
       "2020-12-11 2020-12-11 2020-12-11  87.830850  83.51676  \n",
       "2020-12-14 2020-12-14 2020-12-14  88.057766  83.81342  "
      ]
     },
     "execution_count": 93,
     "metadata": {},
     "output_type": "execute_result"
    }
   ],
   "source": [
    "df.head()"
   ]
  },
  {
   "cell_type": "code",
   "execution_count": 98,
   "id": "51175ac3",
   "metadata": {
    "scrolled": true
   },
   "outputs": [
    {
     "data": {
      "text/plain": [
       "<Figure size 640x480 with 0 Axes>"
      ]
     },
     "metadata": {},
     "output_type": "display_data"
    }
   ],
   "source": [
    "plt.clf()"
   ]
  },
  {
   "cell_type": "code",
   "execution_count": 106,
   "id": "eb3312ac",
   "metadata": {},
   "outputs": [
    {
     "data": {
      "text/plain": [
       "[<matplotlib.lines.Line2D at 0x1769dd610>]"
      ]
     },
     "execution_count": 106,
     "metadata": {},
     "output_type": "execute_result"
    },
    {
     "data": {
      "image/png": "[encoded data removed]",
      "text/plain": [
       "<Figure size 640x480 with 1 Axes>"
      ]
     },
     "metadata": {},
     "output_type": "display_data"
    }
   ],
   "source": [
    "plt.plot(df['Date'], df['Adj Close'], label = 'Price', color = 'lightgrey')"
   ]
  },
  {
   "cell_type": "code",
   "execution_count": 100,
   "id": "9d2554a1",
   "metadata": {},
   "outputs": [],
   "source": [
    "plt.style.use('dark_background')"
   ]
  },
  {
   "cell_type": "code",
   "execution_count": null,
   "id": "e9e2ac9b",
   "metadata": {},
   "outputs": [],
   "source": []
  },
  {
   "cell_type": "code",
   "execution_count": null,
   "id": "10f9af27",
   "metadata": {},
   "outputs": [],
   "source": []
  }
 ],
 "metadata": {
  "kernelspec": {
   "display_name": "Python 3 (ipykernel)",
   "language": "python",
   "name": "python3"
  },
  "language_info": {
   "codemirror_mode": {
    "name": "ipython",
    "version": 3
   },
   "file_extension": ".py",
   "mimetype": "text/x-python",
   "name": "python",
   "nbconvert_exporter": "python",
   "pygments_lexer": "ipython3",
   "version": "3.11.4"
  }
 },
 "nbformat": 4,
 "nbformat_minor": 5
}
